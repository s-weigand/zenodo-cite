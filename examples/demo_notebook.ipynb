{
 "cells": [
  {
   "cell_type": "code",
   "execution_count": 1,
   "metadata": {},
   "outputs": [],
   "source": [
    "import json\n",
    "from urllib.parse import urlencode"
   ]
  },
  {
   "cell_type": "code",
   "execution_count": 50,
   "metadata": {},
   "outputs": [
    {
     "data": {
      "text/plain": [
       "[{'conceptdoi': '10.5281/zenodo.3979791',\n",
       "  'conceptrecid': '3979791',\n",
       "  'created': '2020-08-11T21:09:07.196414+00:00',\n",
       "  'doi': '10.5281/zenodo.3979792',\n",
       "  'files': [{'bucket': '01ca15c4-924a-4e67-9c75-7aa8903f6ce6',\n",
       "    'checksum': 'md5:addfba1829ada7f463aa124f2d23d584',\n",
       "    'key': 's-weigand/zenodo-cite-test-tag.zip',\n",
       "    'links': {'self': 'https://zenodo.org/api/files/01ca15c4-924a-4e67-9c75-7aa8903f6ce6/s-weigand/zenodo-cite-test-tag.zip'},\n",
       "    'size': 23725,\n",
       "    'type': 'zip'}],\n",
       "  'id': 3979792,\n",
       "  'links': {'badge': 'https://zenodo.org/badge/doi/10.5281/zenodo.3979792.svg',\n",
       "   'bucket': 'https://zenodo.org/api/files/01ca15c4-924a-4e67-9c75-7aa8903f6ce6',\n",
       "   'conceptbadge': 'https://zenodo.org/badge/doi/10.5281/zenodo.3979791.svg',\n",
       "   'conceptdoi': 'https://doi.org/10.5281/zenodo.3979791',\n",
       "   'doi': 'https://doi.org/10.5281/zenodo.3979792',\n",
       "   'html': 'https://zenodo.org/record/3979792',\n",
       "   'latest': 'https://zenodo.org/api/records/3979792',\n",
       "   'latest_html': 'https://zenodo.org/record/3979792',\n",
       "   'self': 'https://zenodo.org/api/records/3979792'},\n",
       "  'metadata': {'access_right': 'open',\n",
       "   'access_right_category': 'success',\n",
       "   'creators': [{'name': 'Sebastian Weigand'}],\n",
       "   'description': '<p>This release is just for testing purposes.</p>',\n",
       "   'doi': '10.5281/zenodo.3979792',\n",
       "   'license': {'id': 'Apache-2.0'},\n",
       "   'publication_date': '2020-08-11',\n",
       "   'related_identifiers': [{'identifier': 'https://github.com/s-weigand/zenodo-cite/tree/test-tag',\n",
       "     'relation': 'isSupplementTo',\n",
       "     'scheme': 'url'},\n",
       "    {'identifier': '10.5281/zenodo.3979791',\n",
       "     'relation': 'isVersionOf',\n",
       "     'scheme': 'doi'}],\n",
       "   'relations': {'version': [{'count': 1,\n",
       "      'index': 0,\n",
       "      'is_last': True,\n",
       "      'last_child': {'pid_type': 'recid', 'pid_value': '3979792'},\n",
       "      'parent': {'pid_type': 'recid', 'pid_value': '3979791'}}]},\n",
       "   'resource_type': {'title': 'Software', 'type': 'software'},\n",
       "   'title': 's-weigand/zenodo-cite: Dummy release',\n",
       "   'version': 'test-tag'},\n",
       "  'owners': [96603],\n",
       "  'revision': 4,\n",
       "  'stats': {'downloads': 0.0,\n",
       "   'unique_downloads': 0.0,\n",
       "   'unique_views': 8.0,\n",
       "   'version_downloads': 0.0,\n",
       "   'version_unique_downloads': 0.0,\n",
       "   'version_unique_views': 8.0,\n",
       "   'version_views': 11.0,\n",
       "   'version_volume': 0.0,\n",
       "   'views': 11.0,\n",
       "   'volume': 0.0},\n",
       "  'updated': '2020-08-15T12:00:13.856825+00:00'}]"
      ]
     },
     "execution_count": 50,
     "metadata": {},
     "output_type": "execute_result"
    }
   ],
   "source": [
    "# %%timeit\n",
    "concept_doi = \"10.5281/zenodo.3979791\".replace('/', '*')\n",
    "doi = \"10.5281/zenodo.3979792\".replace('/', '*')\n",
    "records_url = \"https://zenodo.org/api/records?\"\n",
    "concept_doi_params = urlencode({\"q\": \"conceptdoi:\" + doi, \"size\": 1})\n",
    "doi_params = urlencode({\"q\": \"doi:\" + doi, \"size\": 1})\n",
    "concept_url = f\"{records_url}{concept_doi_params}\"\n",
    "doi_url = f\"{records_url}{doi_params}\"\n",
    "urls = [concept_url, doi_url]\n",
    "\n",
    "requests.get(doi_url).json()[\"hits\"][\"hits\"]"
   ]
  },
  {
   "cell_type": "code",
   "execution_count": 54,
   "metadata": {},
   "outputs": [],
   "source": [
    "with open('request_response.txt', 'w') as outfile:\n",
    "    json.dump(requests.get(doi_url).json()[\"hits\"][\"hits\"], outfile)"
   ]
  },
  {
   "cell_type": "code",
   "execution_count": null,
   "metadata": {},
   "outputs": [],
   "source": [
    "res[0].json()[\"hits\"][\"hits\"][0]"
   ]
  },
  {
   "cell_type": "code",
   "execution_count": 14,
   "metadata": {},
   "outputs": [],
   "source": [
    "import requests"
   ]
  },
  {
   "cell_type": "code",
   "execution_count": 58,
   "metadata": {},
   "outputs": [
    {
     "data": {
      "text/plain": [
       "48"
      ]
     },
     "execution_count": 58,
     "metadata": {},
     "output_type": "execute_result"
    }
   ],
   "source": [
    "concept_doi = \"10.5281/zenodo.598352\".replace('/', '*') # lmfit\n",
    "concept_doi = \"10.5281/zenodo.592536\".replace('/', '*') # matplotlib\n",
    "\n",
    "params = urlencode({\"q\": \"conceptdoi:\" + concept_doi, \"size\": 100, \"all_versions\":1, \"sort\": \"mostrecent\"})\n",
    "url = f\"https://zenodo.org/api/records?{params}\"\n",
    "res = requests.get(url).json()[\"hits\"][\"hits\"]  \n",
    "len(res)"
   ]
  },
  {
   "cell_type": "code",
   "execution_count": 60,
   "metadata": {},
   "outputs": [
    {
     "name": "stdout",
     "output_type": "stream",
     "text": [
      "v3.3.1\n",
      "v3.3.0\n",
      "v3.2.2\n",
      "v3.2.1\n",
      "v3.2.0\n",
      "v3.2.0rc3\n",
      "v3.1.3\n",
      "v2.2.5\n",
      "v3.1.2\n",
      "v3.1.1\n",
      "v3.1.0\n",
      "v2.2.4\n",
      "v3.1.0rc2\n",
      "v3.1.0rc1\n",
      "v3.0.3\n",
      "v3.0.2\n",
      "v3.0.1\n",
      "v3.0.0\n",
      "v3.0.0rc2\n",
      "v3.0.0rc1\n",
      "v2.2.3\n",
      "v2.2.2\n",
      "v2.2.1\n",
      "v2.2.0\n",
      "v2.2.0rc1\n",
      "v2.1.2\n",
      "v2.1.1\n",
      "v2.1.0\n",
      "v2.1.0rc1\n",
      "v2.0.2\n",
      "v2.0.1\n",
      "v2.0.0\n",
      "v2.0.0rc2\n",
      "v2.0.0rc1\n",
      "v2.0.0b4\n",
      "v1.5.3\n",
      "v2.0.0b2\n",
      "v2.0.0b3\n",
      "v1.5.2\n",
      "v2.0.0b1\n",
      "v1.5.1\n",
      "v1.5.0\n",
      "v1.5.0rc2\n",
      "v1.5.0rc1\n",
      "v1.4.3\n",
      "v1.4.2\n",
      "v1.4.1\n",
      "v1.4.0\n"
     ]
    }
   ],
   "source": [
    "for result in res:\n",
    "#     print(result[\"updated\"])\n",
    "    print(result[\"metadata\"][\"version\"])\n",
    "# res[0]#[\"metadata\"][\"version\"]"
   ]
  },
  {
   "cell_type": "code",
   "execution_count": 47,
   "metadata": {},
   "outputs": [
    {
     "data": {
      "text/plain": [
       "True"
      ]
     },
     "execution_count": 47,
     "metadata": {},
     "output_type": "execute_result"
    }
   ],
   "source": [
    "\"0.9.8\" in \"0.9.8rc1\""
   ]
  },
  {
   "cell_type": "code",
   "execution_count": 63,
   "metadata": {},
   "outputs": [],
   "source": [
    "from collections import namedtuple\n",
    "Foo = namedtuple(\"Foo\", [\"bar\", \"baz\"])"
   ]
  },
  {
   "cell_type": "code",
   "execution_count": 64,
   "metadata": {},
   "outputs": [],
   "source": [
    "foo = Foo(1,2)"
   ]
  },
  {
   "cell_type": "code",
   "execution_count": 66,
   "metadata": {},
   "outputs": [
    {
     "ename": "TypeError",
     "evalue": "tuple indices must be integers or slices, not str",
     "output_type": "error",
     "traceback": [
      "\u001b[1;31m---------------------------------------------------------------------------\u001b[0m",
      "\u001b[1;31mTypeError\u001b[0m                                 Traceback (most recent call last)",
      "\u001b[1;32m<ipython-input-66-2e14cafe9c99>\u001b[0m in \u001b[0;36m<module>\u001b[1;34m\u001b[0m\n\u001b[1;32m----> 1\u001b[1;33m \u001b[0mfoo\u001b[0m\u001b[1;33m[\u001b[0m\u001b[1;34m\"bar\"\u001b[0m\u001b[1;33m]\u001b[0m\u001b[1;33m\u001b[0m\u001b[1;33m\u001b[0m\u001b[0m\n\u001b[0m",
      "\u001b[1;31mTypeError\u001b[0m: tuple indices must be integers or slices, not str"
     ]
    }
   ],
   "source": [
    "foo[\"bar\"]"
   ]
  },
  {
   "cell_type": "code",
   "execution_count": 68,
   "metadata": {},
   "outputs": [
    {
     "ename": "AttributeError",
     "evalue": "'Foo' object has no attribute 'getattr'",
     "output_type": "error",
     "traceback": [
      "\u001b[1;31m---------------------------------------------------------------------------\u001b[0m",
      "\u001b[1;31mAttributeError\u001b[0m                            Traceback (most recent call last)",
      "\u001b[1;32m<ipython-input-68-8a0d875e195c>\u001b[0m in \u001b[0;36m<module>\u001b[1;34m\u001b[0m\n\u001b[1;32m----> 1\u001b[1;33m \u001b[0mfoo\u001b[0m\u001b[1;33m.\u001b[0m\u001b[0mgetattr\u001b[0m\u001b[1;33m(\u001b[0m\u001b[1;34m\"bar\"\u001b[0m\u001b[1;33m)\u001b[0m\u001b[1;33m\u001b[0m\u001b[1;33m\u001b[0m\u001b[0m\n\u001b[0m",
      "\u001b[1;31mAttributeError\u001b[0m: 'Foo' object has no attribute 'getattr'"
     ]
    }
   ],
   "source": [
    "foo.getattr(\"bar\")"
   ]
  },
  {
   "cell_type": "code",
   "execution_count": null,
   "metadata": {},
   "outputs": [],
   "source": []
  }
 ],
 "metadata": {
  "kernelspec": {
   "display_name": "Python 3",
   "language": "python",
   "name": "python3"
  },
  "language_info": {
   "codemirror_mode": {
    "name": "ipython",
    "version": 3
   },
   "file_extension": ".py",
   "mimetype": "text/x-python",
   "name": "python",
   "nbconvert_exporter": "python",
   "pygments_lexer": "ipython3",
   "version": "3.7.8"
  }
 },
 "nbformat": 4,
 "nbformat_minor": 4
}
